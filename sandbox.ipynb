{
 "cells": [
  {
   "cell_type": "code",
   "execution_count": 1,
   "metadata": {},
   "outputs": [],
   "source": [
    "\n",
    "import torch\n",
    "import pandas as pd\n",
    "import shelve\n",
    "import features\n",
    "import nnue_dataset\n",
    "from tqdm import tqdm\n",
    "import logging \n",
    "import numpy as np\n",
    "from scipy.sparse import lil_matrix, vstack\n",
    "import click\n",
    "import os\n",
    "import pickle as pkl\n",
    "import model_single_bucket as M\n",
    "\n",
    "\n",
    "def get_data(feature_set, fens):\n",
    "    b = nnue_dataset.make_sparse_batch_from_fens(\n",
    "        feature_set, fens, [0] * len(fens), [1] * len(fens), [0] * len(fens)\n",
    "    )\n",
    "    return b\n",
    "\n",
    "def get_single_activation(model, forward_mode, feature_set, fens):\n",
    "\n",
    "    model.forward_mode = forward_mode\n",
    "\n",
    "    b = get_data(feature_set, fens)\n",
    "    \n",
    "    (\n",
    "        us,\n",
    "        them,\n",
    "        white_indices,\n",
    "        white_values,\n",
    "        black_indices,\n",
    "        black_values,\n",
    "        outcome,\n",
    "        score,\n",
    "        psqt_indices,\n",
    "        layer_stack_indices,\n",
    "    ) = b.contents.get_tensors(\"cuda\")\n",
    "    out = model.forward(\n",
    "        us,\n",
    "        them,\n",
    "        white_indices,\n",
    "        white_values,\n",
    "        black_indices,\n",
    "        black_values,\n",
    "        psqt_indices,\n",
    "        layer_stack_indices,\n",
    "    )\n",
    "    out_numpy = out.cpu().detach().numpy()\n",
    "\n",
    "    del out    \n",
    "\n",
    "\n",
    "    return out_numpy"
   ]
  },
  {
   "cell_type": "code",
   "execution_count": 2,
   "metadata": {},
   "outputs": [
    {
     "data": {
      "text/plain": [
       "NNUE(\n",
       "  (input): DoubleFeatureTransformerSlice()\n",
       "  (layer_stacks): LayerStacks(\n",
       "    (l1): Linear(in_features=2048, out_features=128, bias=True)\n",
       "    (l2): Linear(in_features=128, out_features=128, bias=True)\n",
       "    (output): Linear(in_features=128, out_features=1, bias=True)\n",
       "    (relu): ReLU()\n",
       "  )\n",
       ")"
      ]
     },
     "execution_count": 2,
     "metadata": {},
     "output_type": "execute_result"
    }
   ],
   "source": [
    "\n",
    "features_name = \"HalfKAv2_hm^\"\n",
    "feature_set = features.get_feature_set_from_name(features_name)\n",
    "\n",
    "nnue = M.NNUE(feature_set)\n",
    "nnue.load_from_checkpoint('/home/ap/nnue-pytorch/logs/lightning_logs/version_19_setting_0/checkpoints/epoch=499-step=3052000.ckpt', feature_set=feature_set)\n",
    "nnue.cuda()"
   ]
  },
  {
   "cell_type": "code",
   "execution_count": 3,
   "metadata": {},
   "outputs": [],
   "source": [
    "import pandas as pd\n",
    "db_name = \"stockfish_data_fens_01\"\n",
    "dir_name = f\"/media/ap/storage/stockfish_data/{db_name}\"\n",
    "\n",
    "# load df\n",
    "df = pd.read_pickle(f\"{dir_name}/concept_df.pkl\")"
   ]
  },
  {
   "cell_type": "code",
   "execution_count": 14,
   "metadata": {},
   "outputs": [],
   "source": [
    "i = 2\n",
    "forward_mode = 3\n",
    "fens = [df.iloc[i].fen]"
   ]
  },
  {
   "cell_type": "code",
   "execution_count": 15,
   "metadata": {},
   "outputs": [],
   "source": [
    "out = get_single_activation(nnue, forward_mode, feature_set, fens)"
   ]
  },
  {
   "cell_type": "code",
   "execution_count": 16,
   "metadata": {},
   "outputs": [
    {
     "data": {
      "text/plain": [
       "(1, 128)"
      ]
     },
     "execution_count": 16,
     "metadata": {},
     "output_type": "execute_result"
    }
   ],
   "source": [
    "out.shape"
   ]
  },
  {
   "cell_type": "code",
   "execution_count": null,
   "metadata": {},
   "outputs": [],
   "source": []
  }
 ],
 "metadata": {
  "kernelspec": {
   "display_name": "nnuepytorch",
   "language": "python",
   "name": "python3"
  },
  "language_info": {
   "codemirror_mode": {
    "name": "ipython",
    "version": 3
   },
   "file_extension": ".py",
   "mimetype": "text/x-python",
   "name": "python",
   "nbconvert_exporter": "python",
   "pygments_lexer": "ipython3",
   "version": "3.10.11"
  },
  "orig_nbformat": 4
 },
 "nbformat": 4,
 "nbformat_minor": 2
}
