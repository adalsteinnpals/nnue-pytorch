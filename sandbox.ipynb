{
 "cells": [
  {
   "cell_type": "code",
   "execution_count": 1,
   "metadata": {},
   "outputs": [],
   "source": [
    "\n",
    "import torch\n",
    "import pandas as pd\n",
    "import shelve\n",
    "import features\n",
    "import nnue_dataset\n",
    "from tqdm import tqdm\n",
    "import logging \n",
    "import numpy as np\n",
    "from scipy.sparse import lil_matrix, vstack\n",
    "import click\n",
    "import os\n",
    "import pickle as pkl\n",
    "import model_single_bucket as M\n",
    "\n",
    "\n",
    "def get_data(feature_set, fens):\n",
    "    b = nnue_dataset.make_sparse_batch_from_fens(\n",
    "        feature_set, fens, [0] * len(fens), [1] * len(fens), [0] * len(fens)\n",
    "    )\n",
    "    return b\n",
    "\n",
    "def get_single_activation(model, forward_mode, feature_set, fens):\n",
    "\n",
    "    model.forward_mode = forward_mode\n",
    "\n",
    "    b = get_data(feature_set, fens)\n",
    "    \n",
    "    (\n",
    "        us,\n",
    "        them,\n",
    "        white_indices,\n",
    "        white_values,\n",
    "        black_indices,\n",
    "        black_values,\n",
    "        outcome,\n",
    "        score,\n",
    "        psqt_indices,\n",
    "        layer_stack_indices,\n",
    "    ) = b.contents.get_tensors(\"cuda\")\n",
    "    out = model.forward(\n",
    "        us,\n",
    "        them,\n",
    "        white_indices,\n",
    "        white_values,\n",
    "        black_indices,\n",
    "        black_values,\n",
    "        psqt_indices,\n",
    "        layer_stack_indices,\n",
    "    )\n",
    "    out_numpy = out.cpu().detach().numpy()\n",
    "\n",
    "    del out    \n",
    "\n",
    "\n",
    "    return out_numpy"
   ]
  },
  {
   "cell_type": "code",
   "execution_count": 2,
   "metadata": {},
   "outputs": [
    {
     "data": {
      "text/plain": [
       "NNUE(\n",
       "  (input): DoubleFeatureTransformerSlice()\n",
       "  (layer_stacks): LayerStacks(\n",
       "    (l1): Linear(in_features=2048, out_features=128, bias=True)\n",
       "    (l2): Linear(in_features=128, out_features=128, bias=True)\n",
       "    (output): Linear(in_features=128, out_features=1, bias=True)\n",
       "    (relu): ReLU()\n",
       "  )\n",
       ")"
      ]
     },
     "execution_count": 2,
     "metadata": {},
     "output_type": "execute_result"
    }
   ],
   "source": [
    "\n",
    "features_name = \"HalfKAv2_hm^\"\n",
    "feature_set = features.get_feature_set_from_name(features_name)\n",
    "\n",
    "nnue = M.NNUE(feature_set)\n",
    "nnue.load_from_checkpoint('/home/ap/nnue-pytorch/logs/lightning_logs/version_19_setting_0/checkpoints/epoch=499-step=3052000.ckpt', feature_set=feature_set)\n",
    "nnue.cuda()"
   ]
  },
  {
   "cell_type": "code",
   "execution_count": 1,
   "metadata": {},
   "outputs": [],
   "source": [
    "import pandas as pd\n",
    "db_name = \"stockfish_data_fens_01\"\n",
    "dir_name = f\"/media/ap/storage/stockfish_data/{db_name}\"\n",
    "\n",
    "# load df\n",
    "df = pd.read_pickle(f\"{dir_name}/concept_df.pkl\")"
   ]
  },
  {
   "cell_type": "code",
   "execution_count": 4,
   "metadata": {},
   "outputs": [],
   "source": [
    "df.to_pickle(f\"production_models/fen_df.pkl\")"
   ]
  },
  {
   "cell_type": "code",
   "execution_count": 2,
   "metadata": {},
   "outputs": [
    {
     "data": {
      "text/html": [
       "<div>\n",
       "<style scoped>\n",
       "    .dataframe tbody tr th:only-of-type {\n",
       "        vertical-align: middle;\n",
       "    }\n",
       "\n",
       "    .dataframe tbody tr th {\n",
       "        vertical-align: top;\n",
       "    }\n",
       "\n",
       "    .dataframe thead th {\n",
       "        text-align: right;\n",
       "    }\n",
       "</style>\n",
       "<table border=\"1\" class=\"dataframe\">\n",
       "  <thead>\n",
       "    <tr style=\"text-align: right;\">\n",
       "      <th></th>\n",
       "      <th>fen</th>\n",
       "      <th>r</th>\n",
       "      <th>k</th>\n",
       "      <th>K</th>\n",
       "      <th>q</th>\n",
       "      <th>P</th>\n",
       "      <th>R</th>\n",
       "      <th>p</th>\n",
       "      <th>b</th>\n",
       "      <th>B</th>\n",
       "      <th>n</th>\n",
       "      <th>N</th>\n",
       "      <th>Q</th>\n",
       "    </tr>\n",
       "  </thead>\n",
       "  <tbody>\n",
       "    <tr>\n",
       "      <th>0</th>\n",
       "      <td>8/8/8/2r5/1k6/5K2/8/6q1 b - - 7 78</td>\n",
       "      <td>1.0</td>\n",
       "      <td>1</td>\n",
       "      <td>1</td>\n",
       "      <td>1.0</td>\n",
       "      <td>0.0</td>\n",
       "      <td>0.0</td>\n",
       "      <td>0.0</td>\n",
       "      <td>0.0</td>\n",
       "      <td>0.0</td>\n",
       "      <td>0.0</td>\n",
       "      <td>0.0</td>\n",
       "      <td>0.0</td>\n",
       "    </tr>\n",
       "    <tr>\n",
       "      <th>1</th>\n",
       "      <td>6k1/4RrP1/8/6K1/3Pp3/3b4/8/8 w - - 5 87</td>\n",
       "      <td>1.0</td>\n",
       "      <td>1</td>\n",
       "      <td>1</td>\n",
       "      <td>0.0</td>\n",
       "      <td>2.0</td>\n",
       "      <td>1.0</td>\n",
       "      <td>1.0</td>\n",
       "      <td>1.0</td>\n",
       "      <td>0.0</td>\n",
       "      <td>0.0</td>\n",
       "      <td>0.0</td>\n",
       "      <td>0.0</td>\n",
       "    </tr>\n",
       "    <tr>\n",
       "      <th>2</th>\n",
       "      <td>r4k2/2R1p2p/4b1p1/8/2P3P1/2b1B2P/4BPK1/8 b - -...</td>\n",
       "      <td>1.0</td>\n",
       "      <td>1</td>\n",
       "      <td>1</td>\n",
       "      <td>0.0</td>\n",
       "      <td>4.0</td>\n",
       "      <td>1.0</td>\n",
       "      <td>3.0</td>\n",
       "      <td>2.0</td>\n",
       "      <td>2.0</td>\n",
       "      <td>0.0</td>\n",
       "      <td>0.0</td>\n",
       "      <td>0.0</td>\n",
       "    </tr>\n",
       "    <tr>\n",
       "      <th>3</th>\n",
       "      <td>1r3k2/5ppp/3P4/6P1/3pP3/7B/2r2P2/3R1K2 w - - 0 36</td>\n",
       "      <td>2.0</td>\n",
       "      <td>1</td>\n",
       "      <td>1</td>\n",
       "      <td>0.0</td>\n",
       "      <td>4.0</td>\n",
       "      <td>1.0</td>\n",
       "      <td>4.0</td>\n",
       "      <td>0.0</td>\n",
       "      <td>1.0</td>\n",
       "      <td>0.0</td>\n",
       "      <td>0.0</td>\n",
       "      <td>0.0</td>\n",
       "    </tr>\n",
       "    <tr>\n",
       "      <th>4</th>\n",
       "      <td>8/1r4p1/k4p2/8/p6P/3K4/5P2/6R1 w - - 0 52</td>\n",
       "      <td>1.0</td>\n",
       "      <td>1</td>\n",
       "      <td>1</td>\n",
       "      <td>0.0</td>\n",
       "      <td>2.0</td>\n",
       "      <td>1.0</td>\n",
       "      <td>3.0</td>\n",
       "      <td>0.0</td>\n",
       "      <td>0.0</td>\n",
       "      <td>0.0</td>\n",
       "      <td>0.0</td>\n",
       "      <td>0.0</td>\n",
       "    </tr>\n",
       "  </tbody>\n",
       "</table>\n",
       "</div>"
      ],
      "text/plain": [
       "                                                 fen    r  k  K    q    P  \\\n",
       "0                 8/8/8/2r5/1k6/5K2/8/6q1 b - - 7 78  1.0  1  1  1.0  0.0   \n",
       "1            6k1/4RrP1/8/6K1/3Pp3/3b4/8/8 w - - 5 87  1.0  1  1  0.0  2.0   \n",
       "2  r4k2/2R1p2p/4b1p1/8/2P3P1/2b1B2P/4BPK1/8 b - -...  1.0  1  1  0.0  4.0   \n",
       "3  1r3k2/5ppp/3P4/6P1/3pP3/7B/2r2P2/3R1K2 w - - 0 36  2.0  1  1  0.0  4.0   \n",
       "4          8/1r4p1/k4p2/8/p6P/3K4/5P2/6R1 w - - 0 52  1.0  1  1  0.0  2.0   \n",
       "\n",
       "     R    p    b    B    n    N    Q  \n",
       "0  0.0  0.0  0.0  0.0  0.0  0.0  0.0  \n",
       "1  1.0  1.0  1.0  0.0  0.0  0.0  0.0  \n",
       "2  1.0  3.0  2.0  2.0  0.0  0.0  0.0  \n",
       "3  1.0  4.0  0.0  1.0  0.0  0.0  0.0  \n",
       "4  1.0  3.0  0.0  0.0  0.0  0.0  0.0  "
      ]
     },
     "execution_count": 2,
     "metadata": {},
     "output_type": "execute_result"
    }
   ],
   "source": [
    "df.head()"
   ]
  },
  {
   "cell_type": "code",
   "execution_count": 14,
   "metadata": {},
   "outputs": [],
   "source": [
    "i = 2\n",
    "forward_mode = 3\n",
    "fens = [df.iloc[i].fen]"
   ]
  },
  {
   "cell_type": "code",
   "execution_count": 15,
   "metadata": {},
   "outputs": [],
   "source": [
    "out = get_single_activation(nnue, forward_mode, feature_set, fens)"
   ]
  },
  {
   "cell_type": "code",
   "execution_count": 16,
   "metadata": {},
   "outputs": [
    {
     "data": {
      "text/plain": [
       "(1, 128)"
      ]
     },
     "execution_count": 16,
     "metadata": {},
     "output_type": "execute_result"
    }
   ],
   "source": [
    "out.shape"
   ]
  },
  {
   "cell_type": "code",
   "execution_count": null,
   "metadata": {},
   "outputs": [],
   "source": []
  }
 ],
 "metadata": {
  "kernelspec": {
   "display_name": "nnuepytorch",
   "language": "python",
   "name": "python3"
  },
  "language_info": {
   "codemirror_mode": {
    "name": "ipython",
    "version": 3
   },
   "file_extension": ".py",
   "mimetype": "text/x-python",
   "name": "python",
   "nbconvert_exporter": "python",
   "pygments_lexer": "ipython3",
   "version": "3.10.11"
  },
  "orig_nbformat": 4
 },
 "nbformat": 4,
 "nbformat_minor": 2
}
